{
 "cells": [
  {
   "cell_type": "code",
   "execution_count": 2,
   "id": "7a02cfa1-cc8e-476b-9061-9dc5f61c1f35",
   "metadata": {},
   "outputs": [],
   "source": [
    "# Assignment 1 - Creating the Field\n",
    "import math\n",
    "import matplotlib.pyplot as plt\n",
    "from matplotlib.patches import Rectangle\n",
    "from matplotlib.lines import Line2D\n",
    "# Official Tennis court Dimensions (in meters) \n",
    "court_length = 23.77 #baseline to baseline \n",
    "doubles_width = 10.97\n",
    "singles_width = 8.23\n",
    "service_line_dist = 6.40 #from net to service line \n",
    "line_width_m = 0.05 #5cm official line width "
   ]
  },
  {
   "cell_type": "code",
   "execution_count": null,
   "id": "7cc42e42-3edc-40a0-8b25-4973deaf64c7",
   "metadata": {},
   "outputs": [],
   "source": [
    "# World - Pixel mapping \n",
    "margin_m = 2.0 #margin around court in meters \n",
    "world_width_m = doubles_width + 2 * margin_m\n",
    "world_height_m = court_length + 2 * margin_m\n",
    "\n",
    "target_max_px = 1200 # scale so longer side approx 1200 px\n",
    "px_per_m = target_max_px / max(world_width_m,world_height_m)\n",
    "dpi = 100\n",
    "fig_w_in = (world_width_m*px_per_m) / dpi\n",
    "fig_h_in = (world_height_m*px_per_m) / dpi\n",
    "def linewidth_m_to_points(l_m):\n",
    "    px=l_m*px_per_m\n",
    "    return px*72.0/dpi #convert px to points for Matplotlib\n",
    "\n",
    "# Draw court: \n",
    "fig, ax=plt.subplots(figsize=(fig_w_in, fig_h_in), dpi=dpi)\n",
    "ax.set_xlim(-world_width_m/2, world_width_m/2)\n",
    "ax.set_ylim(-world_height_m/2, world_height_m/2)\n",
    "ax.set_aspect('equal')\n",
    "ax.axis('off')\n",
    "\n",
    "# Outer doubles court \n",
    "ax.add_patch(Rectangle((-doubles_width/2, -court_length/2),\n",
    "                       doubles_width, court_length, \n",
    "                       fill=False, edgecolor='black', \n",
    "                       linewidth=linewidth_m_to_points(line_width_m)))\n",
    "\n",
    "# Singles sidelines \n",
    "ax.add_line(Line2D([-singles_width/2, -singles_width/2], \n",
    "                   [-court_length/2, court_length/2],\n",
    "                   color='black', linewidth=linewidth_m_to_points(line_width_m)))\n",
    "ax.add_line(Line2D([singles_width/2, singles_width/2], \n",
    "                   [-court_length/2, court_length/2], \n",
    "                   color='black', linewidth=linewidth_m_to_points(line_width_m)))\n",
    "# Net \n",
    "ax.add_line(Line2D([-doubles_width/2, doubles_width/2], \n",
    "                   [0,0], color='black', \n",
    "                   linestyle='--', linewidth=linewidth_m_to_points(0.02)))\n",
    "\n",
    "#Service lines \n",
    "ax.add_line(Line2D([-singles_width/2, singles_width/2], \n",
    "                   [service_line_dist, service_line_dist], \n",
    "                   color='black', linewidth=linewidth_m_to_points(line_width_m)))\n",
    "ax.add_line(Line2D([-singles_width/2, singles_width/2], \n",
    "                   [-service_line_dist, -service_line_dist], \n",
    "                   color='black', linewidth=linewidth_m_to_points(line_width_m)))\n",
    "\n",
    "# Center Service Line \n",
    "ax.add_line(Line2D([0,0], \n",
    "                   [-service_line_dist, service_line_dist], \n",
    "                   color='black', linewidth=linewidth_m_to_points(line_width_m)))\n",
    "\n",
    "# We want to save in PNG\n",
    "output_file = \"tennis_court.png\"\n",
    "plt.savefig(output_file, dpi=dpi, bbox_inches='tight', pad_inches=0.02)\n",
    "plt.close(fig) \n",
    "print(\"Tennis court saved as\", output_file)"
   ]
  },
  {
   "cell_type": "code",
   "execution_count": null,
   "id": "6bbf5c5e-c069-406f-b59c-1edc96154f0c",
   "metadata": {},
   "outputs": [],
   "source": []
  }
 ],
 "metadata": {
  "kernelspec": {
   "display_name": "Python 3 (ipykernel)",
   "language": "python",
   "name": "python3"
  },
  "language_info": {
   "codemirror_mode": {
    "name": "ipython",
    "version": 3
   },
   "file_extension": ".py",
   "mimetype": "text/x-python",
   "name": "python",
   "nbconvert_exporter": "python",
   "pygments_lexer": "ipython3",
   "version": "3.13.5"
  }
 },
 "nbformat": 4,
 "nbformat_minor": 5
}
